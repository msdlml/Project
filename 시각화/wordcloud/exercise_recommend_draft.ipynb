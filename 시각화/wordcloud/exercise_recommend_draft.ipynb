{
 "cells": [
  {
   "cell_type": "markdown",
   "metadata": {},
   "source": [
    "1. 파일 불러오기\n",
    "2. 데이터 확인\n",
    "3. 데이터 전처리\n",
    "4. 연령별 데이터 분할\n",
    "5. 각 등급을 위한 추천운동 딕셔너리(연령별로)<br>\n",
    "     5-1. 추천 운동 랜덤 반환\n",
    "6. 연령만 고려한 추천운동 리스트<br>\n",
    "     6-1. 추천 운동 랜덤 반환\n",
    "7. 이름 및 나이 입력 받고 조건에 맞는 추천 운동 반환\n",
    "8. 운동 순서 고려 시 사용할 코드"
   ]
  },
  {
   "cell_type": "code",
   "execution_count": 4,
   "metadata": {},
   "outputs": [
    {
     "data": {
      "text/html": [
       "<div>\n",
       "<style scoped>\n",
       "    .dataframe tbody tr th:only-of-type {\n",
       "        vertical-align: middle;\n",
       "    }\n",
       "\n",
       "    .dataframe tbody tr th {\n",
       "        vertical-align: top;\n",
       "    }\n",
       "\n",
       "    .dataframe thead th {\n",
       "        text-align: right;\n",
       "    }\n",
       "</style>\n",
       "<table border=\"1\" class=\"dataframe\">\n",
       "  <thead>\n",
       "    <tr style=\"text-align: right;\">\n",
       "      <th></th>\n",
       "      <th>AGRDE_FLAG_NM</th>\n",
       "      <th>BMI_IDEX_GRAD_NM</th>\n",
       "      <th>MBER_SEXDSTN_FLAG_CD</th>\n",
       "      <th>COAW_FLAG_NM</th>\n",
       "      <th>SPORTS_STEP_NM</th>\n",
       "      <th>FLAG_ACCTO_RECOMEND_MVM_RANK_CO</th>\n",
       "      <th>RECOMEND_MVM_NM</th>\n",
       "    </tr>\n",
       "  </thead>\n",
       "  <tbody>\n",
       "    <tr>\n",
       "      <th>0</th>\n",
       "      <td>10대</td>\n",
       "      <td>정상</td>\n",
       "      <td>F</td>\n",
       "      <td>참가증</td>\n",
       "      <td>본운동</td>\n",
       "      <td>1</td>\n",
       "      <td>줄넘기 운동</td>\n",
       "    </tr>\n",
       "    <tr>\n",
       "      <th>1</th>\n",
       "      <td>10대</td>\n",
       "      <td>정상</td>\n",
       "      <td>F</td>\n",
       "      <td>참가증</td>\n",
       "      <td>본운동</td>\n",
       "      <td>2</td>\n",
       "      <td>자전거타기</td>\n",
       "    </tr>\n",
       "    <tr>\n",
       "      <th>2</th>\n",
       "      <td>10대</td>\n",
       "      <td>정상</td>\n",
       "      <td>F</td>\n",
       "      <td>참가증</td>\n",
       "      <td>본운동</td>\n",
       "      <td>3</td>\n",
       "      <td>조깅</td>\n",
       "    </tr>\n",
       "    <tr>\n",
       "      <th>3</th>\n",
       "      <td>10대</td>\n",
       "      <td>정상</td>\n",
       "      <td>F</td>\n",
       "      <td>참가증</td>\n",
       "      <td>본운동</td>\n",
       "      <td>4</td>\n",
       "      <td>버피 테스트</td>\n",
       "    </tr>\n",
       "    <tr>\n",
       "      <th>4</th>\n",
       "      <td>10대</td>\n",
       "      <td>정상</td>\n",
       "      <td>F</td>\n",
       "      <td>참가증</td>\n",
       "      <td>본운동</td>\n",
       "      <td>5</td>\n",
       "      <td>맨몸운동  루틴프로그램</td>\n",
       "    </tr>\n",
       "    <tr>\n",
       "      <th>...</th>\n",
       "      <td>...</td>\n",
       "      <td>...</td>\n",
       "      <td>...</td>\n",
       "      <td>...</td>\n",
       "      <td>...</td>\n",
       "      <td>...</td>\n",
       "      <td>...</td>\n",
       "    </tr>\n",
       "    <tr>\n",
       "      <th>5035</th>\n",
       "      <td>70대 이상</td>\n",
       "      <td>3단계비만</td>\n",
       "      <td>M</td>\n",
       "      <td>3등급</td>\n",
       "      <td>마무리운동</td>\n",
       "      <td>1</td>\n",
       "      <td>누워서 전신 뻗기</td>\n",
       "    </tr>\n",
       "    <tr>\n",
       "      <th>5036</th>\n",
       "      <td>70대 이상</td>\n",
       "      <td>3단계비만</td>\n",
       "      <td>M</td>\n",
       "      <td>3등급</td>\n",
       "      <td>마무리운동</td>\n",
       "      <td>2</td>\n",
       "      <td>넙다리 안쪽 스트레칭</td>\n",
       "    </tr>\n",
       "    <tr>\n",
       "      <th>5037</th>\n",
       "      <td>70대 이상</td>\n",
       "      <td>3단계비만</td>\n",
       "      <td>M</td>\n",
       "      <td>3등급</td>\n",
       "      <td>마무리운동</td>\n",
       "      <td>3</td>\n",
       "      <td>넙다리 앞쪽 스트레칭</td>\n",
       "    </tr>\n",
       "    <tr>\n",
       "      <th>5038</th>\n",
       "      <td>70대 이상</td>\n",
       "      <td>3단계비만</td>\n",
       "      <td>M</td>\n",
       "      <td>3등급</td>\n",
       "      <td>마무리운동</td>\n",
       "      <td>4</td>\n",
       "      <td>엉덩이 스트레칭</td>\n",
       "    </tr>\n",
       "    <tr>\n",
       "      <th>5039</th>\n",
       "      <td>70대 이상</td>\n",
       "      <td>3단계비만</td>\n",
       "      <td>M</td>\n",
       "      <td>3등급</td>\n",
       "      <td>마무리운동</td>\n",
       "      <td>5</td>\n",
       "      <td>옆구리 스트레칭</td>\n",
       "    </tr>\n",
       "  </tbody>\n",
       "</table>\n",
       "<p>5040 rows × 7 columns</p>\n",
       "</div>"
      ],
      "text/plain": [
       "     AGRDE_FLAG_NM BMI_IDEX_GRAD_NM MBER_SEXDSTN_FLAG_CD COAW_FLAG_NM  \\\n",
       "0              10대               정상                    F          참가증   \n",
       "1              10대               정상                    F          참가증   \n",
       "2              10대               정상                    F          참가증   \n",
       "3              10대               정상                    F          참가증   \n",
       "4              10대               정상                    F          참가증   \n",
       "...            ...              ...                  ...          ...   \n",
       "5035        70대 이상            3단계비만                    M          3등급   \n",
       "5036        70대 이상            3단계비만                    M          3등급   \n",
       "5037        70대 이상            3단계비만                    M          3등급   \n",
       "5038        70대 이상            3단계비만                    M          3등급   \n",
       "5039        70대 이상            3단계비만                    M          3등급   \n",
       "\n",
       "     SPORTS_STEP_NM  FLAG_ACCTO_RECOMEND_MVM_RANK_CO RECOMEND_MVM_NM  \n",
       "0               본운동                                1          줄넘기 운동  \n",
       "1               본운동                                2           자전거타기  \n",
       "2               본운동                                3              조깅  \n",
       "3               본운동                                4          버피 테스트  \n",
       "4               본운동                                5    맨몸운동  루틴프로그램  \n",
       "...             ...                              ...             ...  \n",
       "5035          마무리운동                                1       누워서 전신 뻗기  \n",
       "5036          마무리운동                                2     넙다리 안쪽 스트레칭  \n",
       "5037          마무리운동                                3     넙다리 앞쪽 스트레칭  \n",
       "5038          마무리운동                                4        엉덩이 스트레칭  \n",
       "5039          마무리운동                                5        옆구리 스트레칭  \n",
       "\n",
       "[5040 rows x 7 columns]"
      ]
     },
     "execution_count": 4,
     "metadata": {},
     "output_type": "execute_result"
    }
   ],
   "source": [
    "# 모듈 임포트\n",
    "import pandas as pd  \n",
    "\n",
    "#파일 불러오기\n",
    "df = pd.read_csv('c:/mid_project/국민연령별추천운동정보/KS_MRFN_AGE_ACCTO_RECOMMEND_SPORTS_INFO_202303.csv')\n",
    "\n",
    "df"
   ]
  },
  {
   "cell_type": "markdown",
   "metadata": {},
   "source": [
    "## 데이터 확인"
   ]
  },
  {
   "cell_type": "code",
   "execution_count": 5,
   "metadata": {},
   "outputs": [
    {
     "data": {
      "text/html": [
       "<div>\n",
       "<style scoped>\n",
       "    .dataframe tbody tr th:only-of-type {\n",
       "        vertical-align: middle;\n",
       "    }\n",
       "\n",
       "    .dataframe tbody tr th {\n",
       "        vertical-align: top;\n",
       "    }\n",
       "\n",
       "    .dataframe thead th {\n",
       "        text-align: right;\n",
       "    }\n",
       "</style>\n",
       "<table border=\"1\" class=\"dataframe\">\n",
       "  <thead>\n",
       "    <tr style=\"text-align: right;\">\n",
       "      <th></th>\n",
       "      <th>AGRDE_FLAG_NM</th>\n",
       "      <th>BMI_IDEX_GRAD_NM</th>\n",
       "      <th>MBER_SEXDSTN_FLAG_CD</th>\n",
       "      <th>COAW_FLAG_NM</th>\n",
       "      <th>SPORTS_STEP_NM</th>\n",
       "      <th>FLAG_ACCTO_RECOMEND_MVM_RANK_CO</th>\n",
       "      <th>RECOMEND_MVM_NM</th>\n",
       "    </tr>\n",
       "  </thead>\n",
       "  <tbody>\n",
       "    <tr>\n",
       "      <th>0</th>\n",
       "      <td>10대</td>\n",
       "      <td>정상</td>\n",
       "      <td>F</td>\n",
       "      <td>참가증</td>\n",
       "      <td>본운동</td>\n",
       "      <td>1</td>\n",
       "      <td>줄넘기 운동</td>\n",
       "    </tr>\n",
       "    <tr>\n",
       "      <th>1</th>\n",
       "      <td>10대</td>\n",
       "      <td>정상</td>\n",
       "      <td>F</td>\n",
       "      <td>참가증</td>\n",
       "      <td>본운동</td>\n",
       "      <td>2</td>\n",
       "      <td>자전거타기</td>\n",
       "    </tr>\n",
       "    <tr>\n",
       "      <th>2</th>\n",
       "      <td>10대</td>\n",
       "      <td>정상</td>\n",
       "      <td>F</td>\n",
       "      <td>참가증</td>\n",
       "      <td>본운동</td>\n",
       "      <td>3</td>\n",
       "      <td>조깅</td>\n",
       "    </tr>\n",
       "    <tr>\n",
       "      <th>3</th>\n",
       "      <td>10대</td>\n",
       "      <td>정상</td>\n",
       "      <td>F</td>\n",
       "      <td>참가증</td>\n",
       "      <td>본운동</td>\n",
       "      <td>4</td>\n",
       "      <td>버피 테스트</td>\n",
       "    </tr>\n",
       "    <tr>\n",
       "      <th>4</th>\n",
       "      <td>10대</td>\n",
       "      <td>정상</td>\n",
       "      <td>F</td>\n",
       "      <td>참가증</td>\n",
       "      <td>본운동</td>\n",
       "      <td>5</td>\n",
       "      <td>맨몸운동  루틴프로그램</td>\n",
       "    </tr>\n",
       "  </tbody>\n",
       "</table>\n",
       "</div>"
      ],
      "text/plain": [
       "  AGRDE_FLAG_NM BMI_IDEX_GRAD_NM MBER_SEXDSTN_FLAG_CD COAW_FLAG_NM  \\\n",
       "0           10대               정상                    F          참가증   \n",
       "1           10대               정상                    F          참가증   \n",
       "2           10대               정상                    F          참가증   \n",
       "3           10대               정상                    F          참가증   \n",
       "4           10대               정상                    F          참가증   \n",
       "\n",
       "  SPORTS_STEP_NM  FLAG_ACCTO_RECOMEND_MVM_RANK_CO RECOMEND_MVM_NM  \n",
       "0            본운동                                1          줄넘기 운동  \n",
       "1            본운동                                2           자전거타기  \n",
       "2            본운동                                3              조깅  \n",
       "3            본운동                                4          버피 테스트  \n",
       "4            본운동                                5    맨몸운동  루틴프로그램  "
      ]
     },
     "execution_count": 5,
     "metadata": {},
     "output_type": "execute_result"
    }
   ],
   "source": [
    "df.head()"
   ]
  },
  {
   "cell_type": "code",
   "execution_count": 6,
   "metadata": {},
   "outputs": [
    {
     "data": {
      "text/plain": [
       "AGRDE_FLAG_NM                      0\n",
       "BMI_IDEX_GRAD_NM                   0\n",
       "MBER_SEXDSTN_FLAG_CD               0\n",
       "COAW_FLAG_NM                       0\n",
       "SPORTS_STEP_NM                     0\n",
       "FLAG_ACCTO_RECOMEND_MVM_RANK_CO    0\n",
       "RECOMEND_MVM_NM                    0\n",
       "dtype: int64"
      ]
     },
     "execution_count": 6,
     "metadata": {},
     "output_type": "execute_result"
    }
   ],
   "source": [
    "df.isna().sum()  # 결측치 확인"
   ]
  },
  {
   "cell_type": "markdown",
   "metadata": {},
   "source": [
    "## 데이터 전처리"
   ]
  },
  {
   "cell_type": "code",
   "execution_count": 7,
   "metadata": {},
   "outputs": [],
   "source": [
    "# 등급, 운동순서, 추천운동 컬럼 제외 전부 삭제\n",
    "df.drop(['FLAG_ACCTO_RECOMEND_MVM_RANK_CO','BMI_IDEX_GRAD_NM', 'MBER_SEXDSTN_FLAG_CD'], axis = 1, inplace = True)"
   ]
  },
  {
   "cell_type": "code",
   "execution_count": 8,
   "metadata": {},
   "outputs": [],
   "source": [
    "# 등급표 인코딩하기\n",
    "df['COAW_FLAG_NM'] = df['COAW_FLAG_NM'].map({'참가증':4, '3등급':3, '2등급':2, '1등급':1})"
   ]
  },
  {
   "cell_type": "markdown",
   "metadata": {},
   "source": [
    "## 연령별 데이터 분할\n",
    "\n",
    "나이 나누기 기준\n",
    "- 유소년: 10대 데이터 사용<br>\n",
    "- 청소년: 10대<br>\n",
    "- 성인: 20대~50대<br>\n",
    "- 노인: 원 데이터 기준 노인 데이터의 최소 나이가 61세임을 고려 ==> 60대, 70대 이상<br>"
   ]
  },
  {
   "cell_type": "code",
   "execution_count": 9,
   "metadata": {},
   "outputs": [],
   "source": [
    "child = df[df['AGRDE_FLAG_NM'] == '10대']\n",
    "teens = df[df['AGRDE_FLAG_NM'] == '10대']\n",
    "adult = df[df['AGRDE_FLAG_NM'].str.contains('20대|30대|40대|50대')]\n",
    "elders = df[df['AGRDE_FLAG_NM'].str.contains('60대|70대 이상')]"
   ]
  },
  {
   "cell_type": "code",
   "execution_count": 10,
   "metadata": {},
   "outputs": [],
   "source": [
    "# 연령대별 준비/본/마무리 데이터 분할\n",
    "child_pre = child[child['SPORTS_STEP_NM'] == '준비운동']\n",
    "child_main = child[child['SPORTS_STEP_NM'] == '본운동']\n",
    "child_last = child[child['SPORTS_STEP_NM'] == '마무리운동']\n",
    "\n",
    "teens_pre = teens[teens['SPORTS_STEP_NM'] == '준비운동']\n",
    "teens_main = teens[teens['SPORTS_STEP_NM'] == '본운동']\n",
    "teens_last = teens[teens['SPORTS_STEP_NM'] == '마무리운동']\n",
    "\n",
    "adult_pre = adult[adult['SPORTS_STEP_NM'] == '준비운동']\n",
    "adult_main = adult[adult['SPORTS_STEP_NM'] == '본운동']\n",
    "adult_last = adult[adult['SPORTS_STEP_NM'] == '마무리운동']\n",
    "\n",
    "elders_pre = elders[elders['SPORTS_STEP_NM'] == '준비운동']\n",
    "elders_main = elders[elders['SPORTS_STEP_NM'] == '본운동']\n",
    "elders_last = elders[elders['SPORTS_STEP_NM'] == '마무리운동']"
   ]
  },
  {
   "cell_type": "markdown",
   "metadata": {},
   "source": [
    "***"
   ]
  },
  {
   "cell_type": "markdown",
   "metadata": {},
   "source": [
    "### 어떤 기준으로 운동을 추천할 것인가?\n",
    "- `연령 데이터별 등급 기준으로 추천운동 최다 빈도 상위 n개 추천`\n",
    "- 추천운동 빈도 수를 내림차순 정렬했을 때 상위 2개 요소는 빈도수가 다음 순위보다 높음<br>\n",
    "     `상위 2개는 고정 출력/나머지 n개 랜덤 출력`<br>\n",
    "- 준비운동-본운동-마무리운동 나눠서? "
   ]
  },
  {
   "cell_type": "markdown",
   "metadata": {},
   "source": [
    "***"
   ]
  },
  {
   "cell_type": "markdown",
   "metadata": {},
   "source": [
    "## 각 등급을 위한 추천운동 딕셔너리\n",
    "- 연령별 데이터 사용\n",
    "- 추천 운동 중 빈도수가 높은 상위 20개\n"
   ]
  },
  {
   "cell_type": "code",
   "execution_count": 11,
   "metadata": {},
   "outputs": [],
   "source": [
    "# 등급별로 추천 운동 상위 20개 종목 리스트로 반환하는 함수\n",
    "def top_recommend_movements(data, coaw_flag_num, top_n=20):\n",
    "    filtered_data = data[data['COAW_FLAG_NM'] == coaw_flag_num]\n",
    "    top_movements = filtered_data['RECOMEND_MVM_NM'].value_counts().sort_values(ascending=False).head(top_n)\n",
    "    return top_movements.index.tolist()"
   ]
  },
  {
   "cell_type": "code",
   "execution_count": 12,
   "metadata": {},
   "outputs": [],
   "source": [
    "# 데이터에 top_recommend_movements 함수를 적용해 딕셔너리로 저장하는 함수    \n",
    "def grade_top_recommend_movements(data, grade_name):\n",
    "    grade_data = {}\n",
    "    for i in range(1, 5):\n",
    "        grade_data[f'{grade_name}_{i}'] = top_recommend_movements(data, i)\n",
    "    return grade_data"
   ]
  },
  {
   "cell_type": "code",
   "execution_count": 13,
   "metadata": {},
   "outputs": [],
   "source": [
    "# 등급별로 추천 운동 상위 20개 종목 리스트로 반환하는 함수\n",
    "def top_recommend_movements(data, coaw_flag_num, top_n=20):\n",
    "    filtered_data = data[data['COAW_FLAG_NM'] == coaw_flag_num]\n",
    "    top_movements = filtered_data['RECOMEND_MVM_NM'].value_counts().sort_values(ascending=False).head(top_n)\n",
    "    return top_movements.index.tolist()\n",
    "\n",
    "# 데이터에 top_recommend_movements 함수를 적용해 딕셔너리로 저장하는 함수    \n",
    "def grade_top_recommend_movements(data, grade_name):\n",
    "    grade_data = {}\n",
    "    for i in range(1, 5):\n",
    "        grade_data[f'{grade_name}_{i}'] = top_recommend_movements(data, i)\n",
    "    return grade_data\n",
    "\n",
    "# 각 등급을 위한 추천운동 딕셔너리(연령 데이터별)\n",
    "child_grade_movements = grade_top_recommend_movements(child, 'child')\n",
    "teens_grade_movements = grade_top_recommend_movements(teens, 'teens')\n",
    "adult_grade_movements = grade_top_recommend_movements(adult, 'adult')\n",
    "elders_grade_movements = grade_top_recommend_movements(elders, 'elders')"
   ]
  },
  {
   "cell_type": "code",
   "execution_count": 36,
   "metadata": {},
   "outputs": [
    {
     "data": {
      "text/plain": [
       "['정적 스트레칭  루틴프로그램',\n",
       " '동적 스트레칭 루틴프로그램',\n",
       " '줄넘기 운동',\n",
       " '몸통 비틀기',\n",
       " '복식호흡',\n",
       " '맨몸운동  루틴프로그램',\n",
       " '온 몸 뻗어주기',\n",
       " '버피 테스트',\n",
       " '짝 스트레칭  루틴프로그램',\n",
       " '목 돌리기',\n",
       " '조깅',\n",
       " '팔 벌려 뛰기',\n",
       " '자전거타기',\n",
       " '양발 벌려 무릎 밀어내기',\n",
       " '시소우',\n",
       " '전완대고 버티기',\n",
       " '앉았다 일어서기',\n",
       " '팔꿈치 원 그리기',\n",
       " '모관운동',\n",
       " '요가 및 필라테스  루틴프로그램']"
      ]
     },
     "execution_count": 36,
     "metadata": {},
     "output_type": "execute_result"
    }
   ],
   "source": [
    "# child_grade_movements\n",
    "child_grade_movements['child_1']  # 유소년 1등급을 위한 추천 운동 20개"
   ]
  },
  {
   "cell_type": "markdown",
   "metadata": {},
   "source": [
    "#### 등급별 추천운동 5개 반환(상위 2개 고정, 나머지 3개 랜덤)\n",
    "- 연령별 데이터 사용"
   ]
  },
  {
   "cell_type": "code",
   "execution_count": 15,
   "metadata": {},
   "outputs": [],
   "source": [
    "# 무작위로 추천운동을 반환하는 함수(상위 2개 고정, 나머지 3개 랜덤)\n",
    "import random\n",
    "\n",
    "def get_random_elements(original_list, num_fixed=2, num_random=3):\n",
    "    # 첫 번째와 두 번째 요소를 추출하여 고정\n",
    "    fixed_elements = original_list[:num_fixed]\n",
    "\n",
    "    # 나머지 요소 중에서 랜덤하게 선택\n",
    "    random_elements = random.sample(original_list[num_fixed:], num_random)\n",
    "\n",
    "    # 고정된 요소와 랜덤한 요소를 결합하여 새로운 리스트 생성\n",
    "    result_list = fixed_elements + random_elements\n",
    "\n",
    "    return result_list"
   ]
  },
  {
   "cell_type": "code",
   "execution_count": 16,
   "metadata": {},
   "outputs": [
    {
     "name": "stdout",
     "output_type": "stream",
     "text": [
      "유소년 1등급 랜덤 운동추천\n",
      "['정적 스트레칭  루틴프로그램', '동적 스트레칭 루틴프로그램', '전완대고 버티기', '짝 스트레칭  루틴프로그램', '모관운동']\n",
      "\n",
      "유소년 2등급 랜덤 운동추천\n",
      "['정적 스트레칭  루틴프로그램', '동적 스트레칭 루틴프로그램', '조깅', '목 돌리기', '짝 스트레칭  루틴프로그램']\n",
      "\n",
      "유소년 3등급 랜덤 운동추천\n",
      "['정적 스트레칭  루틴프로그램', '동적 스트레칭 루틴프로그램', '몸통 비틀기', '버피 테스트', '목 돌리기']\n",
      "\n",
      "유소년 4등급 랜덤 운동추천\n",
      "['동적 스트레칭 루틴프로그램', '정적 스트레칭  루틴프로그램', '양발 벌려 무릎 밀어내기', '조깅', '버피 테스트']\n",
      "\n"
     ]
    }
   ],
   "source": [
    "# 무작위로 추천운동을 반환하는 함수(상위 2개 고정, 나머지 3개 랜덤) 사용 예\n",
    "# 유소년 데이터 사용\n",
    "\n",
    "# 1등급\n",
    "child_grade1_random = get_random_elements(child_grade_movements['child_1'])\n",
    "print('유소년 1등급 랜덤 운동추천')\n",
    "print(child_grade1_random)\n",
    "print('')\n",
    "\n",
    "# 2등급\n",
    "child_grade2_random = get_random_elements(child_grade_movements['child_2'])\n",
    "print('유소년 2등급 랜덤 운동추천')\n",
    "print(child_grade2_random)\n",
    "print('')\n",
    "\n",
    "# 3등급\n",
    "child_grade3_random = get_random_elements(child_grade_movements['child_3'])\n",
    "print('유소년 3등급 랜덤 운동추천')\n",
    "print(child_grade3_random)\n",
    "print('')\n",
    "\n",
    "# 4등급\n",
    "child_grade4_random = get_random_elements(child_grade_movements['child_4'])\n",
    "print('유소년 4등급 랜덤 운동추천')\n",
    "print(child_grade4_random)\n",
    "print('')"
   ]
  },
  {
   "cell_type": "code",
   "execution_count": 18,
   "metadata": {},
   "outputs": [],
   "source": [
    "# 무작위로 추천운동을 반환하는 함수(상위 2개 고정, 나머지 3개 랜덤) 사용 예\n",
    "\n",
    "# 1등급\n",
    "child_grade1_random = get_random_elements(child_grade_movements['child_1'])\n",
    "teens_grade1_random = get_random_elements(teens_grade_movements['teens_1'])\n",
    "adult_grade1_random = get_random_elements(adult_grade_movements['adult_1'])\n",
    "elders_grade1_random = get_random_elements(elders_grade_movements['elders_1'])\n",
    "# 2등급\n",
    "child_grade2_random = get_random_elements(child_grade_movements['child_2'])\n",
    "teens_grade2_random = get_random_elements(teens_grade_movements['teens_2'])\n",
    "adult_grade2_random = get_random_elements(adult_grade_movements['adult_2'])\n",
    "elders_grade2_random = get_random_elements(elders_grade_movements['elders_2'])\n",
    "\n",
    "# 3등급\n",
    "child_grade3_random = get_random_elements(child_grade_movements['child_3'])\n",
    "teens_grade3_random = get_random_elements(teens_grade_movements['teens_3'])\n",
    "adult_grade3_random = get_random_elements(adult_grade_movements['adult_3'])\n",
    "elders_grade3_random = get_random_elements(elders_grade_movements['elders_3'])\n",
    "\n",
    "# 4등급\n",
    "child_grade4_random = get_random_elements(child_grade_movements['child_4'])\n",
    "teens_grade4_random = get_random_elements(teens_grade_movements['teens_4'])\n",
    "adult_grade4_random = get_random_elements(adult_grade_movements['adult_4'])\n",
    "elders_grade4_random = get_random_elements(elders_grade_movements['elders_4'])\n"
   ]
  },
  {
   "cell_type": "markdown",
   "metadata": {},
   "source": [
    "# 최종"
   ]
  },
  {
   "cell_type": "code",
   "execution_count": null,
   "metadata": {},
   "outputs": [],
   "source": [
    "import random\n",
    "\n",
    "# 사용자 정보 입력받기\n",
    "name = input('이름을 입력하세요: ')\n",
    "age = int(input('나이를 입력하세요: '))\n",
    "grade = int(input('등급을 입력하세요(참가증은 4를 입력해주세요.): '))\n",
    "\n",
    "# 연령 및 등급에 따라 적절한 운동 추천 리스트 선택\n",
    "if 11 <= age <= 12:\n",
    "        selected_recommendations = child_grade_movements[f'child_{grade}']\n",
    "        \n",
    "if 13 <= age <= 19:\n",
    "        selected_recommendations = teens_grade_movements[f'teens_{grade}']\n",
    "\n",
    "if 20 <= age <= 59:\n",
    "        selected_recommendations = adult_grade_movements[f'adult_{grade}']\n",
    "\n",
    "        \n",
    "if age >= 60:\n",
    "        selected_recommendations = elders_grade_movements[f'elders_{grade}']\n",
    "\n",
    "\n",
    "# 첫 번째와 두 번째 요소 고정 추출 및 나머지 세 개의 요소 랜덤 선택하는 함수\n",
    "def get_random_elements(recommendations):\n",
    "    fixed_elements = recommendations[:2]\n",
    "    random_elements = random.sample(recommendations[2:], 3)\n",
    "    return fixed_elements + random_elements\n",
    "\n",
    "# 랜덤 추천 생성 및 출력\n",
    "random_result = get_random_elements(selected_recommendations)\n",
    "print(f'{name}님({age}세/{grade}등급) 추천 운동 리스트')\n",
    "print(random_result)"
   ]
  },
  {
   "cell_type": "code",
   "execution_count": 34,
   "metadata": {},
   "outputs": [
    {
     "name": "stdout",
     "output_type": "stream",
     "text": [
      "김멋사님(25세/3등급) 추천 운동 리스트\n",
      "['짐볼을 이용한 동적 루틴 스트레칭', '유산소 운동 전 동적 루틴 스트레칭', '옆구리 스트레칭', '다리 벌려 앞으로 상체 숙이기', '한발 앞으로 내밀고 앉았다 일어서기']\n"
     ]
    }
   ],
   "source": [
    "#import random\n",
    "\n",
    "# 사용자 정보 입력받기\n",
    "#name = input('이름을 입력하세요: ')\n",
    "#age = int(input('나이를 입력하세요: '))\n",
    "#grade = int(input('등급을 입력하세요(참가증은 4를 입력해주세요.): '))\n",
    "\n",
    "# 연령 및 등급에 따라 적절한 운동 추천 리스트 선택\n",
    "#if 11 <= age <= 12:\n",
    "    #if grade == 1:\n",
    "        #selected_recommendations = child_grade_movements['child_1']\n",
    "    #elif grade == 2:\n",
    "        #selected_recommendations = child_grade_movements['child_2']\n",
    "    #elif grade == 3:\n",
    "        #selected_recommendations = child_grade_movements['child_3']\n",
    "    #else:\n",
    "        #selected_recommendations = child_grade_movements['child_4']\n",
    "        \n",
    "#if 13 <= age <= 19:\n",
    "    #if grade == 1:\n",
    "        #selected_recommendations = teens_grade_movements['teens_1']\n",
    "    #elif grade == 2:\n",
    "        #selected_recommendations = teens_grade_movements['teens_2']\n",
    "    #elif grade == 3:\n",
    "        #selected_recommendations = teens_grade_movements['teens_3']\n",
    "    #else:\n",
    "        #selected_recommendations = teens_grade_movements['teens_2']\n",
    "\n",
    "#if 20 <= age <= 59:\n",
    "    #if grade == 1:\n",
    "        #selected_recommendations = adult_grade_movements['adult_1']\n",
    "    #elif grade == 2:\n",
    "        #selected_recommendations = adult_grade_movements['adult_2']\n",
    "    #elif grade == 3:\n",
    "        #selected_recommendations = adult_grade_movements['adult_3']\n",
    "    #else:\n",
    "        #selected_recommendations = adult_grade_movements['adult_4']\n",
    "        \n",
    "#if age >= 60:\n",
    "    #if grade == 1:\n",
    "        #selected_recommendations = elders_grade_movements['elders_1']\n",
    "    #elif grade == 2:\n",
    "        #selected_recommendations = elders_grade_movements['elders_2']\n",
    "    #elif grade == 3:\n",
    "        #selected_recommendations = elders_grade_movements['elders_3']\n",
    "    #else:\n",
    "        #selected_recommendations = elders_grade_movements['elders_4']\n",
    "\n",
    "# 첫 번째와 두 번째 요소 고정 추출 및 나머지 세 개의 요소 랜덤 선택하는 함수\n",
    "#def get_random_elements(recommendations):\n",
    "    #fixed_elements = recommendations[:2]\n",
    "    #random_elements = random.sample(recommendations[2:], 3)\n",
    "    #return fixed_elements + random_elements\n",
    "\n",
    "# 랜덤 추천 생성 및 출력\n",
    "#random_result = get_random_elements(selected_recommendations)\n",
    "#print(f'{name}님({age}세/{grade}등급) 추천 운동 리스트')\n",
    "#print(random_result)"
   ]
  },
  {
   "cell_type": "markdown",
   "metadata": {},
   "source": [
    "***"
   ]
  },
  {
   "cell_type": "markdown",
   "metadata": {},
   "source": [
    "## 연령만 고려한 추천운동 리스트\n",
    "- 등급, 운동순서 고려 X"
   ]
  },
  {
   "cell_type": "code",
   "execution_count": null,
   "metadata": {},
   "outputs": [
    {
     "name": "stdout",
     "output_type": "stream",
     "text": [
      "유소년 전체 추천운동 상위 20개 리스트\n",
      "['정적 스트레칭  루틴프로그램', '동적 스트레칭 루틴프로그램', '온 몸 뻗어주기', '복식호흡', '줄넘기 운동', '맨몸운동  루틴프로그램', '목 돌리기', '버피 테스트', '조깅', '몸통 비틀기', '짝 스트레칭  루틴프로그램', '자전거타기', '양발 벌려 무릎 밀어내기', '팔 벌려 뛰기', '시소우', '모관운동', '팔꿈치 원 그리기', '전완대고 버티기', '다리모아 무릎 누르기', '수영']\n",
      "\n",
      "청소년 전체 추천운동 상위 20개 리스트\n",
      "['정적 스트레칭  루틴프로그램', '동적 스트레칭 루틴프로그램', '온 몸 뻗어주기', '복식호흡', '줄넘기 운동', '맨몸운동  루틴프로그램', '목 돌리기', '버피 테스트', '조깅', '몸통 비틀기', '짝 스트레칭  루틴프로그램', '자전거타기', '양발 벌려 무릎 밀어내기', '팔 벌려 뛰기', '시소우', '모관운동', '팔꿈치 원 그리기', '전완대고 버티기', '다리모아 무릎 누르기', '수영']\n",
      "\n",
      "성인 전체 추천운동 상위 20개 리스트\n",
      "['유산소 운동 전 동적 루틴 스트레칭', '버피운동', '달리기', '실내 자전거타기', '다리 벌려 앞으로 상체 숙이기', '배스트레칭', '좌식생활자를 위한 동적 루틴 스트레칭', '앉았다 일어서기', '발목 얹고 다리 잡아당기기', '자가근막이완술 루틴 스트레칭', '트레드밀에서 걷기', '다리 벌려 옆으로 상체 숙이기', '한발 앞으로 내밀고 앉았다 일어서기', '하지 루틴 스트레칭1', '옆구리 스트레칭', '엎드려 버티기', '다리 모아 상체 숙이기', '손 뻗어 윗몸 일으키기', '실외 자전거타기', '계단 뛰어 오르기']\n",
      "\n",
      "노인 전체 추천운동 상위 20개 리스트\n",
      "['엉덩이 스트레칭', '넙다리 안쪽 스트레칭', '넙다리 앞쪽 스트레칭', '엎드려 양팔 및 다리 들어올리기', '몸통 들어올리기', '등/어깨 뒤쪽 스트레칭', '깍지 끼고 상체 숙이기', '벽에서 팔굽혀 펴기', '누워서 전신 뻗기', '고정식 자전거 타기', '물통으로 양팔 들어올리기', '옆구리 스트레칭', '대퇴사두근 스트레칭', '내전근 스트레칭', '발가락 폄근 스트레칭', '배 스트레칭', '몸통 비틀기', '고정식 트레드밀에서 걷기', '실내 자전거타기', '골반 스트레칭2']\n"
     ]
    }
   ],
   "source": [
    "# 유소년 전체 추천운동 상위 20개 리스트(등급 및 운동순서 고려 X)\n",
    "child_recommend = child['RECOMEND_MVM_NM'].explode().value_counts().sort_values(ascending=False).head(20).index.tolist()\n",
    "print('유소년 전체 추천운동 상위 20개 리스트')\n",
    "print(child_recommend)\n",
    "print('')\n",
    "\n",
    "# 청소년 전체 추천운동 상위 20개 리스트(등급 및 운동순서 고려 X)\n",
    "teens_recommend =  teens['RECOMEND_MVM_NM'].explode().value_counts().sort_values(ascending=False).head(20).index.tolist()\n",
    "print('청소년 전체 추천운동 상위 20개 리스트')\n",
    "print(teens_recommend)\n",
    "print('')\n",
    "\n",
    "# 성인 전체 추천운동 상위 20개 리스트(등급 및 운동순서 고려 X)\n",
    "adult_recommend =  adult['RECOMEND_MVM_NM'].explode().value_counts().sort_values(ascending=False).head(20).index.tolist()\n",
    "print('성인 전체 추천운동 상위 20개 리스트')\n",
    "print(adult_recommend)\n",
    "print('')\n",
    "\n",
    "# 노인 전체 추천운동 상위 20개 리스트(등급 및 운동순서 고려 X)\n",
    "elders_recommend =  elders['RECOMEND_MVM_NM'].explode().value_counts().sort_values(ascending=False).head(20).index.tolist()\n",
    "print('노인 전체 추천운동 상위 20개 리스트')\n",
    "print(elders_recommend)"
   ]
  },
  {
   "cell_type": "markdown",
   "metadata": {},
   "source": [
    "#### 연령별 추천운동 5개 반환(상위 2개 고정, 나머지 3개 랜덤)"
   ]
  },
  {
   "cell_type": "code",
   "execution_count": null,
   "metadata": {},
   "outputs": [
    {
     "name": "stdout",
     "output_type": "stream",
     "text": [
      "유소년 랜덤 운동추천\n",
      "['정적 스트레칭  루틴프로그램', '동적 스트레칭 루틴프로그램', '수영', '맨몸운동  루틴프로그램', '온 몸 뻗어주기']\n",
      "\n",
      "청소년 랜덤 운동추천\n",
      "['정적 스트레칭  루틴프로그램', '동적 스트레칭 루틴프로그램', '팔 벌려 뛰기', '양발 벌려 무릎 밀어내기', '모관운동']\n",
      "\n",
      "성인 랜덤 운동추천\n",
      "['유산소 운동 전 동적 루틴 스트레칭', '버피운동', '달리기', '배스트레칭', '트레드밀에서 걷기']\n",
      "\n",
      "노인 랜덤 운동추천\n",
      "['엉덩이 스트레칭', '넙다리 안쪽 스트레칭', '엎드려 양팔 및 다리 들어올리기', '옆구리 스트레칭', '고정식 자전거 타기']\n",
      "\n"
     ]
    }
   ],
   "source": [
    "def get_random_elements(original_list, num_fixed=2, num_random=3):\n",
    "    # 첫 번째와 두 번째 요소를 추출하여 고정\n",
    "    fixed_elements = original_list[:num_fixed]\n",
    "\n",
    "    # 나머지 요소 중에서 랜덤하게 선택\n",
    "    random_elements = random.sample(original_list[num_fixed:], num_random)\n",
    "\n",
    "    # 고정된 요소와 랜덤한 요소를 결합하여 새로운 리스트 생성\n",
    "    result_list = fixed_elements + random_elements\n",
    "\n",
    "    return result_list\n",
    "\n",
    "# 연령별 랜덤 운동 추천(상위 2개 고정, 나머지 3개 랜덤)\n",
    "child_random_result = get_random_elements(child_recommend)\n",
    "print('유소년 랜덤 운동추천')\n",
    "print(child_random_result)\n",
    "print('')\n",
    "\n",
    "teens_random_result = get_random_elements(teens_recommend)\n",
    "print('청소년 랜덤 운동추천')\n",
    "print(teens_random_result)\n",
    "print('')\n",
    "\n",
    "adult_random_result = get_random_elements(adult_recommend)\n",
    "print('성인 랜덤 운동추천')\n",
    "print(adult_random_result)\n",
    "print('')\n",
    "\n",
    "elders_random_result = get_random_elements(elders_recommend)\n",
    "print('노인 랜덤 운동추천')\n",
    "print(elders_random_result)\n",
    "print('')"
   ]
  },
  {
   "cell_type": "markdown",
   "metadata": {},
   "source": [
    "##### 위 코드 반복문으로 간소화"
   ]
  },
  {
   "cell_type": "code",
   "execution_count": null,
   "metadata": {},
   "outputs": [
    {
     "name": "stdout",
     "output_type": "stream",
     "text": [
      "유소년 랜덤 운동추천\n",
      "['정적 스트레칭  루틴프로그램', '동적 스트레칭 루틴프로그램', '자전거타기', '복식호흡', '수영']\n",
      "\n",
      "청소년 랜덤 운동추천\n",
      "['정적 스트레칭  루틴프로그램', '동적 스트레칭 루틴프로그램', '온 몸 뻗어주기', '조깅', '모관운동']\n",
      "\n",
      "성인 랜덤 운동추천\n",
      "['유산소 운동 전 동적 루틴 스트레칭', '버피운동', '배스트레칭', '다리 벌려 앞으로 상체 숙이기', '엎드려 버티기']\n",
      "\n",
      "노인 랜덤 운동추천\n",
      "['엉덩이 스트레칭', '넙다리 안쪽 스트레칭', '대퇴사두근 스트레칭', '물통으로 양팔 들어올리기', '엎드려 양팔 및 다리 들어올리기']\n",
      "\n"
     ]
    }
   ],
   "source": [
    "import random\n",
    "\n",
    "# 첫 번째와 두 번째 요소 고정 추출 및 나머지 세 개의 요소 랜덤 선택하는 함수\n",
    "def get_random_elements(recommendations):\n",
    "    fixed_elements = recommendations[:2]\n",
    "    random_elements = random.sample(recommendations[2:], 3)\n",
    "    return fixed_elements + random_elements\n",
    "\n",
    "# 데이터를 담고 있는 딕셔너리\n",
    "recommendation_dict = {\n",
    "    '유소년': child_recommend,\n",
    "    '청소년': teens_recommend,\n",
    "    '성인': adult_recommend,\n",
    "    '노인': elders_recommend\n",
    "}\n",
    "\n",
    "# 반복문을 통한 랜덤 추천 생성 및 출력\n",
    "for group, recommendations in recommendation_dict.items():\n",
    "    random_result = get_random_elements(recommendations)\n",
    "    print(f'{group} 랜덤 운동추천')\n",
    "    print(random_result)\n",
    "    print('')"
   ]
  },
  {
   "cell_type": "markdown",
   "metadata": {},
   "source": [
    "***"
   ]
  },
  {
   "cell_type": "markdown",
   "metadata": {},
   "source": [
    "## 이름 및 나이 입력 받아서 추천 운동 반환"
   ]
  },
  {
   "cell_type": "code",
   "execution_count": null,
   "metadata": {},
   "outputs": [
    {
     "name": "stdout",
     "output_type": "stream",
     "text": [
      "AI스쿨님(25세)을 위한 추천 운동 리스트\n",
      "['유산소 운동 전 동적 루틴 스트레칭', '버피운동', '다리 벌려 옆으로 상체 숙이기', '계단 뛰어 오르기', '앉았다 일어서기']\n"
     ]
    }
   ],
   "source": [
    "import random\n",
    "\n",
    "# 첫 번째와 두 번째 요소 고정 추출 및 나머지 세 개의 요소 랜덤 선택하는 함수\n",
    "def get_random_elements(recommendations):\n",
    "    fixed_elements = recommendations[:2]\n",
    "    random_elements = random.sample(recommendations[2:], 3)\n",
    "    return fixed_elements + random_elements\n",
    "\n",
    "# 데이터를 담고 있는 딕셔너리\n",
    "recommendation_dict = {\n",
    "    '유소년': child_recommend,\n",
    "    '청소년': teens_recommend,\n",
    "    '성인': adult_recommend,\n",
    "    '노인': elders_recommend\n",
    "}\n",
    "\n",
    "# 나이 입력 받기\n",
    "name = input('이름을 입력하세요: ')\n",
    "age = int(input('나이를 입력하세요: '))\n",
    "\n",
    "# 나이에 따라 적절한 운동 추천 리스트 선택\n",
    "if 11 <= age <= 12:\n",
    "    selected_recommendations = child_recommend\n",
    "elif 13 <= age <= 19:\n",
    "    selected_recommendations = teens_recommend\n",
    "elif 20 <= age <= 59:\n",
    "    selected_recommendations = adult_recommend\n",
    "else:\n",
    "    selected_recommendations = elders_recommend\n",
    "\n",
    "# 랜덤 추천 생성 및 출력\n",
    "random_result = get_random_elements(selected_recommendations)\n",
    "print(f'{name}님({age}세)을 위한 추천 운동 리스트')\n",
    "print(random_result)"
   ]
  },
  {
   "cell_type": "markdown",
   "metadata": {},
   "source": [
    "***"
   ]
  },
  {
   "cell_type": "markdown",
   "metadata": {},
   "source": [
    "#### 운동 순서도 고려할 경우 아래 코드 사용"
   ]
  },
  {
   "cell_type": "code",
   "execution_count": null,
   "metadata": {},
   "outputs": [],
   "source": [
    "# 등급 별 추천 운동 상위 20개 종목 리스트로 반환하는 함수\n",
    "def top_recommend_movements(data, coaw_flag_num, top_n=20):\n",
    "    filtered_data = data[data['COAW_FLAG_NM'] == coaw_flag_num]\n",
    "    top_movements = filtered_data['RECOMEND_MVM_NM'].value_counts().sort_values(ascending=False).head(top_n)\n",
    "    return top_movements.index.tolist()\n",
    "\n",
    "# 유소년 등급 별 추천 운동 상위 20개 종목 리스트(준비-본-마무리)\n",
    "child_pre_1st = top_recommend_movements(child_pre, 1)\n",
    "child_pre_2nd = top_recommend_movements(child_pre, 2)\n",
    "child_pre_3rd = top_recommend_movements(child_pre, 3)\n",
    "child_pre_4th = top_recommend_movements(child_pre, 4)\n",
    "\n",
    "child_main_1st = top_recommend_movements(child_main, 1)\n",
    "child_main_2nd = top_recommend_movements(child_main, 2)\n",
    "child_main_3rd = top_recommend_movements(child_main, 3)\n",
    "child_main_4th = top_recommend_movements(child_main, 4)\n",
    "\n",
    "child_pre_1st = top_recommend_movements(child_last, 1)\n",
    "child_pre_2nd = top_recommend_movements(child_last, 2)\n",
    "child_pre_3rd = top_recommend_movements(child_last, 3)\n",
    "child_pre_4th = top_recommend_movements(child_last, 4)\n",
    "\n",
    "# 청소년 등급 별 추천 운동 상위 20개 종목 리스트(준비-본-마무리)\n",
    "teens_pre_1st = top_recommend_movements(teens_pre, 1)\n",
    "teens_pre_2nd = top_recommend_movements(teens_pre, 2)\n",
    "teens_pre_3rd = top_recommend_movements(teens_pre, 3)\n",
    "teens_pre_4th = top_recommend_movements(teens_pre, 4)\n",
    "\n",
    "teens_main_1st = top_recommend_movements(teens_main, 1)\n",
    "teens_main_2nd = top_recommend_movements(teens_main, 2)\n",
    "teens_main_3rd = top_recommend_movements(teens_main, 3)\n",
    "teens_main_4th = top_recommend_movements(teens_main, 4)\n",
    "\n",
    "teens_last_1st = top_recommend_movements(teens_last, 1)\n",
    "teens_last_2nd = top_recommend_movements(teens_last, 2)\n",
    "teens_last_3rd = top_recommend_movements(teens_last, 3)\n",
    "teens_last_4th = top_recommend_movements(teens_last, 4)\n",
    "\n",
    "# 성인 등급 별 추천 운동 상위 20개 종목 리스트(준비-본-마무리)\n",
    "adult_pre_1st = top_recommend_movements(adult_pre, 1)\n",
    "adult_pre_2nd = top_recommend_movements(adult_pre, 2)\n",
    "adult_pre_3rd = top_recommend_movements(adult_pre, 3)\n",
    "adult_pre_4th = top_recommend_movements(adult_pre, 4)\n",
    "\n",
    "adult_main_1st = top_recommend_movements(adult_main, 1)\n",
    "adult_main_2nd = top_recommend_movements(adult_main, 2)\n",
    "adult_main_3rd = top_recommend_movements(adult_main, 3)\n",
    "adult_main_4th = top_recommend_movements(adult_main, 4)\n",
    "\n",
    "adult_last_1st = top_recommend_movements(adult_last, 1)\n",
    "adult_last_2nd = top_recommend_movements(adult_last, 2)\n",
    "adult_last_3rd = top_recommend_movements(adult_last, 3)\n",
    "adult_last_4th = top_recommend_movements(adult_last, 4)\n",
    "\n",
    "# 노인 등급 별 추천 운동 상위 20개 종목 리스트(준비-본-마무리)\n",
    "elders_pre_1st = top_recommend_movements(elders_pre, 1)\n",
    "elders_pre_2nd = top_recommend_movements(elders_pre, 2)\n",
    "elders_pre_3rd = top_recommend_movements(elders_pre, 3)\n",
    "elders_pre_4th = top_recommend_movements(elders_pre, 4)\n",
    "\n",
    "elders_main_1st = top_recommend_movements(elders_main, 1)\n",
    "elders_main_2nd = top_recommend_movements(elders_main, 2)\n",
    "elders_main_3rd = top_recommend_movements(elders_main, 3)\n",
    "elders_main_4th = top_recommend_movements(elders_main, 4)\n",
    "\n",
    "elders_last_1st = top_recommend_movements(elders_last, 1)\n",
    "elders_last_2nd = top_recommend_movements(elders_last, 2)\n",
    "elders_last_3rd = top_recommend_movements(elders_last, 3)\n",
    "elders_last_4th = top_recommend_movements(elders_last, 4)"
   ]
  },
  {
   "cell_type": "code",
   "execution_count": null,
   "metadata": {},
   "outputs": [],
   "source": [
    "# 위 코드 함수로 고치다가 실패한 코드\n",
    "#def get_top_recomend_movements_by_grade(data, age_group_col, sports_step_col, coaw_flag_col, top_n=20):\n",
    "    #results = []\n",
    "\n",
    "    #for coaw_flag_num in range(1, 5):\n",
    "        #filtered_data = data[(data[coaw_flag_col] == coaw_flag_num) & (data[age_group_col] == age_group) & (data[sports_step_col] == sports_step)]\n",
    "        #top_movements = filtered_data['RECOMEND_MVM_NM'].value_counts().head(top_n).index.tolist()\n",
    "        #results.extend(top_movements)  # extend를 사용하여 이중 리스트가 아닌 단일 리스트에 추가\n",
    "\n",
    "    #return results\n",
    "\n",
    "# Example usage\n",
    "#age_group_col = 'AGRDE_FLAG_NM'\n",
    "#sports_step_col = 'SPORTS_STEP_NM'\n",
    "#coaw_flag_col = 'COAW_FLAG_NM'\n",
    "\n",
    "#age_groups = ['10대']  # 실제 데이터에 따라 수정 필요\n",
    "#sports_steps = ['본운동']  # 실제 데이터에 따라 수정 필요\n",
    "\n",
    "#for age_group in age_groups:\n",
    "    #for sports_step in sports_steps:\n",
    "        #results = get_top_recomend_movements_by_grade(child, age_group_col, sports_step_col, coaw_flag_col)\n",
    "        #print(results)"
   ]
  }
 ],
 "metadata": {
  "kernelspec": {
   "display_name": "test_venv",
   "language": "python",
   "name": "python3"
  },
  "language_info": {
   "codemirror_mode": {
    "name": "ipython",
    "version": 3
   },
   "file_extension": ".py",
   "mimetype": "text/x-python",
   "name": "python",
   "nbconvert_exporter": "python",
   "pygments_lexer": "ipython3",
   "version": "3.8.18"
  }
 },
 "nbformat": 4,
 "nbformat_minor": 2
}
