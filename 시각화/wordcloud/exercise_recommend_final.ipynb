{
 "cells": [
  {
   "cell_type": "code",
   "execution_count": 1,
   "metadata": {},
   "outputs": [],
   "source": [
    "import pandas as pd"
   ]
  },
  {
   "cell_type": "code",
   "execution_count": 2,
   "metadata": {},
   "outputs": [
    {
     "data": {
      "text/html": [
       "<div>\n",
       "<style scoped>\n",
       "    .dataframe tbody tr th:only-of-type {\n",
       "        vertical-align: middle;\n",
       "    }\n",
       "\n",
       "    .dataframe tbody tr th {\n",
       "        vertical-align: top;\n",
       "    }\n",
       "\n",
       "    .dataframe thead th {\n",
       "        text-align: right;\n",
       "    }\n",
       "</style>\n",
       "<table border=\"1\" class=\"dataframe\">\n",
       "  <thead>\n",
       "    <tr style=\"text-align: right;\">\n",
       "      <th></th>\n",
       "      <th>AGRDE_FLAG_NM</th>\n",
       "      <th>COAW_FLAG_NM</th>\n",
       "      <th>SPORTS_STEP_NM</th>\n",
       "      <th>RECOMEND_MVM_NM</th>\n",
       "    </tr>\n",
       "  </thead>\n",
       "  <tbody>\n",
       "    <tr>\n",
       "      <th>0</th>\n",
       "      <td>10대</td>\n",
       "      <td>4</td>\n",
       "      <td>본운동</td>\n",
       "      <td>줄넘기 운동</td>\n",
       "    </tr>\n",
       "    <tr>\n",
       "      <th>1</th>\n",
       "      <td>10대</td>\n",
       "      <td>4</td>\n",
       "      <td>본운동</td>\n",
       "      <td>자전거타기</td>\n",
       "    </tr>\n",
       "    <tr>\n",
       "      <th>2</th>\n",
       "      <td>10대</td>\n",
       "      <td>4</td>\n",
       "      <td>본운동</td>\n",
       "      <td>조깅</td>\n",
       "    </tr>\n",
       "    <tr>\n",
       "      <th>3</th>\n",
       "      <td>10대</td>\n",
       "      <td>4</td>\n",
       "      <td>본운동</td>\n",
       "      <td>버피 테스트</td>\n",
       "    </tr>\n",
       "    <tr>\n",
       "      <th>4</th>\n",
       "      <td>10대</td>\n",
       "      <td>4</td>\n",
       "      <td>본운동</td>\n",
       "      <td>맨몸운동  루틴프로그램</td>\n",
       "    </tr>\n",
       "    <tr>\n",
       "      <th>...</th>\n",
       "      <td>...</td>\n",
       "      <td>...</td>\n",
       "      <td>...</td>\n",
       "      <td>...</td>\n",
       "    </tr>\n",
       "    <tr>\n",
       "      <th>5035</th>\n",
       "      <td>70대 이상</td>\n",
       "      <td>3</td>\n",
       "      <td>마무리운동</td>\n",
       "      <td>누워서 전신 뻗기</td>\n",
       "    </tr>\n",
       "    <tr>\n",
       "      <th>5036</th>\n",
       "      <td>70대 이상</td>\n",
       "      <td>3</td>\n",
       "      <td>마무리운동</td>\n",
       "      <td>넙다리 안쪽 스트레칭</td>\n",
       "    </tr>\n",
       "    <tr>\n",
       "      <th>5037</th>\n",
       "      <td>70대 이상</td>\n",
       "      <td>3</td>\n",
       "      <td>마무리운동</td>\n",
       "      <td>넙다리 앞쪽 스트레칭</td>\n",
       "    </tr>\n",
       "    <tr>\n",
       "      <th>5038</th>\n",
       "      <td>70대 이상</td>\n",
       "      <td>3</td>\n",
       "      <td>마무리운동</td>\n",
       "      <td>엉덩이 스트레칭</td>\n",
       "    </tr>\n",
       "    <tr>\n",
       "      <th>5039</th>\n",
       "      <td>70대 이상</td>\n",
       "      <td>3</td>\n",
       "      <td>마무리운동</td>\n",
       "      <td>옆구리 스트레칭</td>\n",
       "    </tr>\n",
       "  </tbody>\n",
       "</table>\n",
       "<p>5040 rows × 4 columns</p>\n",
       "</div>"
      ],
      "text/plain": [
       "     AGRDE_FLAG_NM  COAW_FLAG_NM SPORTS_STEP_NM RECOMEND_MVM_NM\n",
       "0              10대             4            본운동          줄넘기 운동\n",
       "1              10대             4            본운동           자전거타기\n",
       "2              10대             4            본운동              조깅\n",
       "3              10대             4            본운동          버피 테스트\n",
       "4              10대             4            본운동    맨몸운동  루틴프로그램\n",
       "...            ...           ...            ...             ...\n",
       "5035        70대 이상             3          마무리운동       누워서 전신 뻗기\n",
       "5036        70대 이상             3          마무리운동     넙다리 안쪽 스트레칭\n",
       "5037        70대 이상             3          마무리운동     넙다리 앞쪽 스트레칭\n",
       "5038        70대 이상             3          마무리운동        엉덩이 스트레칭\n",
       "5039        70대 이상             3          마무리운동        옆구리 스트레칭\n",
       "\n",
       "[5040 rows x 4 columns]"
      ]
     },
     "execution_count": 2,
     "metadata": {},
     "output_type": "execute_result"
    }
   ],
   "source": [
    "df = pd.read_csv('c:/mid_project/recommend.csv')  # 전처리 된 데이터 불러오기\n",
    "df"
   ]
  },
  {
   "cell_type": "markdown",
   "metadata": {},
   "source": [
    "### 연령별 데이터 분할"
   ]
  },
  {
   "cell_type": "code",
   "execution_count": 3,
   "metadata": {},
   "outputs": [],
   "source": [
    "child = df[df['AGRDE_FLAG_NM'] == '10대']\n",
    "teens = df[df['AGRDE_FLAG_NM'] == '10대']\n",
    "adult = df[df['AGRDE_FLAG_NM'].str.contains('20대|30대|40대|50대')]\n",
    "elders = df[df['AGRDE_FLAG_NM'].str.contains('60대|70대 이상')]"
   ]
  },
  {
   "cell_type": "markdown",
   "metadata": {},
   "source": [
    "### 등급별로 랜덤하게 추천운동 반환"
   ]
  },
  {
   "cell_type": "code",
   "execution_count": 4,
   "metadata": {},
   "outputs": [],
   "source": [
    "# 등급별로 추천 운동 상위 20개 종목 리스트로 반환하는 함수\n",
    "def top_recommend_movements(data, coaw_flag_num, top_n=20):\n",
    "    filtered_data = data[data['COAW_FLAG_NM'] == coaw_flag_num]\n",
    "    top_movements = filtered_data['RECOMEND_MVM_NM'].value_counts().sort_values(ascending=False).head(top_n)\n",
    "    return top_movements.index.tolist()\n",
    "\n",
    "# 데이터에 top_recommend_movements 함수를 적용해 딕셔너리로 저장하는 함수    \n",
    "def grade_top_recommend_movements(data, grade_name):\n",
    "    grade_data = {}\n",
    "    for i in range(1, 5):\n",
    "        grade_data[f'{grade_name}_{i}'] = top_recommend_movements(data, i)\n",
    "    return grade_data\n",
    "\n",
    "# 각 등급을 위한 상위 20개 추천운동 딕셔너리(연령 데이터별)\n",
    "child_grade_movements = grade_top_recommend_movements(child, 'child')\n",
    "teens_grade_movements = grade_top_recommend_movements(teens, 'teens')\n",
    "adult_grade_movements = grade_top_recommend_movements(adult, 'adult')\n",
    "elders_grade_movements = grade_top_recommend_movements(elders, 'elders')"
   ]
  },
  {
   "cell_type": "code",
   "execution_count": 10,
   "metadata": {},
   "outputs": [
    {
     "name": "stdout",
     "output_type": "stream",
     "text": [
      "김멋사님(15세/4등급) 추천 운동 리스트\n",
      "['동적 스트레칭 루틴프로그램', '정적 스트레칭  루틴프로그램', '짝 스트레칭  루틴프로그램', '맨몸운동  루틴프로그램', '줄넘기 운동']\n"
     ]
    }
   ],
   "source": [
    "import random\n",
    "\n",
    "# 사용자 정보 입력받기\n",
    "name = input('이름을 입력하세요: ')\n",
    "age = int(input('나이를 입력하세요: '))\n",
    "grade = int(input('등급을 입력하세요(참가증은 4를 입력해주세요.): '))\n",
    "\n",
    "# 연령 및 등급에 따라 적절한 운동 추천 리스트 선택\n",
    "if 11 <= age <= 12:\n",
    "        selected_recommendations = child_grade_movements[f'child_{grade}']\n",
    "        \n",
    "if 13 <= age <= 19:\n",
    "        selected_recommendations = teens_grade_movements[f'teens_{grade}']\n",
    "\n",
    "if 20 <= age <= 59:\n",
    "        selected_recommendations = adult_grade_movements[f'adult_{grade}']\n",
    "\n",
    "        \n",
    "if 60 <= age <= 105:\n",
    "        selected_recommendations = elders_grade_movements[f'elders_{grade}']\n",
    "\n",
    "\n",
    "# 첫 번째와 두 번째 요소 고정 추출 및 나머지 세 개의 요소 랜덤 선택하는 함수\n",
    "def get_random_elements(recommendations):\n",
    "    fixed_elements = recommendations[:2]\n",
    "    random_elements = random.sample(recommendations[2:], 3)\n",
    "    return fixed_elements + random_elements\n",
    "\n",
    "# 랜덤 추천 생성 및 출력\n",
    "random_result = get_random_elements(selected_recommendations)\n",
    "print(f'{name}님({age}세/{grade}등급) 추천 운동 리스트')\n",
    "print(random_result)"
   ]
  }
 ],
 "metadata": {
  "kernelspec": {
   "display_name": "test_venv",
   "language": "python",
   "name": "python3"
  },
  "language_info": {
   "codemirror_mode": {
    "name": "ipython",
    "version": 3
   },
   "file_extension": ".py",
   "mimetype": "text/x-python",
   "name": "python",
   "nbconvert_exporter": "python",
   "pygments_lexer": "ipython3",
   "version": "3.8.18"
  }
 },
 "nbformat": 4,
 "nbformat_minor": 2
}
